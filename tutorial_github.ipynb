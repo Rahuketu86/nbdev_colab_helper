{
 "cells": [
  {
   "cell_type": "markdown",
   "metadata": {},
   "source": [
    "# github workflow with colab tutorial\n",
    "\n",
    "> A step by step guide"
   ]
  },
  {
   "cell_type": "markdown",
   "metadata": {},
   "source": [
    "In this tutorial, we'll show how you can work with branches using only github and colab."
   ]
  },
  {
   "cell_type": "markdown",
   "metadata": {},
   "source": [
    "## Prerequisites"
   ]
  },
  {
   "cell_type": "markdown",
   "metadata": {},
   "source": [
    "To complete this tutorial, you'll need a google account (with access to a google drive) and a github account.\n",
    "\n",
    "You'll also need an `nbdev` project in github. If you don't, please take a look at this `tutorial`."
   ]
  },
  {
   "cell_type": "markdown",
   "metadata": {},
   "source": [
    "## github workflow with colab workflow"
   ]
  },
  {
   "cell_type": "markdown",
   "metadata": {},
   "source": [
    "### Create a new branch in github"
   ]
  },
  {
   "cell_type": "markdown",
   "metadata": {},
   "source": [
    "- Navigate to your project in github,\n",
    "- click the \"Switch branches\" button,\n",
    "- enter a new branch name and\n",
    "- click \"Create branch\"\n",
    "\n",
    "<img alt=\"new branch\" width=\"900\" src=\"images/create-new-branch.png\"/>"
   ]
  },
  {
   "cell_type": "markdown",
   "metadata": {},
   "source": [
    "### Clone the new branch in colab"
   ]
  },
  {
   "cell_type": "markdown",
   "metadata": {},
   "source": [
    "#### Add a section to nbdev_colab_projects.ini for your new branch\n",
    "\n",
    "Here's an example `nbdev_colab_projects.ini` that uses the project name \"nbdev_colab_helper_wip\" for the new branch \"change-dflt-branch-instructions2\":\n",
    " \n",
    "```\n",
    "[DEFAULT]\n",
    "project_parent = /content/drive/My Drive/Colab Notebooks/github\n",
    " \n",
    "git_user_name = **changeme**\n",
    "git_user_email = **changeme**@gmail.com\n",
    "git_user_password = **changeme**\n",
    " \n",
    "[nbdev_colab_helper]\n",
    "git_url = https://github.com/pete88b/nbdev_colab_helper.git\n",
    "git_branch = master\n",
    " \n",
    "[nbdev_colab_helper_wip]\n",
    "git_url = https://github.com/pete88b/nbdev_colab_helper.git\n",
    "git_branch = change-dflt-branch-instructions2\n",
    "```\n",
    "\n",
    "#### Run `setup_project`\n",
    "\n",
    "Run [these setup steps](https://pete88b.github.io/nbdev_colab_helper/tutorial.html#Colab-setup) in colab (feel free to use an existing colab helper notebook if you have one)."
   ]
  },
  {
   "cell_type": "markdown",
   "metadata": {},
   "source": [
    "### Make some changes"
   ]
  },
  {
   "cell_type": "markdown",
   "metadata": {},
   "source": [
    "Using the above config, I can find the new branch in google drive: /content/drive/My Drive/Colab Notebooks/github/nbdev_colab_helper_wip.\n",
    "\n",
    "You can now edit files and (using your colab helper notebook) build your library, run tests etc."
   ]
  },
  {
   "cell_type": "markdown",
   "metadata": {},
   "source": [
    "### Push changes to github"
   ]
  },
  {
   "cell_type": "markdown",
   "metadata": {},
   "source": [
    "When your ready to push to github, it's a good idea to check what has changed by running:\n",
    "\n",
    "```\n",
    "!git status\n",
    "```\n",
    "```\n",
    "On branch change-dflt-branch-instructions2\n",
    "Your branch is up to date with 'origin/change-dflt-branch-instructions2'.\n",
    "\n",
    "Changes not staged for commit:\n",
    "  (use \"git add <file>...\" to update what will be committed)\n",
    "  (use \"git checkout -- <file>...\" to discard changes in working directory)\n",
    "\n",
    "\tmodified:   00_core.ipynb\n",
    "\tmodified:   docs/tutorial.html\n",
    "\tmodified:   tutorial.ipynb\n",
    "\n",
    "no changes added to commit (use \"git add\" and/or \"git commit -a\")\n",
    "```\n",
    "\n",
    "if you want to push all changes, you can:\n",
    "\n",
    "```\n",
    "commit_message = 'minor changes to tutorial'\n",
    "git_push(project_config['git_branch'], commit_message)\n",
    "```\n",
    "\n",
    "or you can push changes to just 2 files with something like:\n",
    "\n",
    "```\n",
    "!nbdev_install_git_hooks\n",
    "!git add docs/tutorial.html\n",
    "!git add tutorial.ipynb\n",
    "git_branch = project_config['git_branch']\n",
    "!git commit -m \"minor changes to tutorial\"\n",
    "!git push origin $git_branch\n",
    "```"
   ]
  },
  {
   "cell_type": "markdown",
   "metadata": {},
   "source": [
    "### Create pull request in github"
   ]
  },
  {
   "cell_type": "markdown",
   "metadata": {},
   "source": [
    "You should now be able to go back to github and create a pull request.\n",
    "\n",
    "<img alt=\"new PR\" width=\"900\" src=\"images/create-pull.png\"/>"
   ]
  },
  {
   "cell_type": "markdown",
   "metadata": {},
   "source": [
    "### Cleanup"
   ]
  },
  {
   "cell_type": "markdown",
   "metadata": {},
   "source": [
    "Once you have finished working with your new branch in colab, it might make sense to delete it from your google drive to\n",
    "- save a little space on your drive and\n",
    "- make it possible to use the same project name again\n",
    "\n",
    "I'll probably use the \"nbdev_colab_helper_wip\" project name for whatever branch I'm currently working on."
   ]
  }
 ],
 "metadata": {
  "jekyll": {
   "keywords": "fastai",
   "toc": "false"
  },
  "jupytext": {
   "split_at_heading": true
  },
  "kernelspec": {
   "display_name": "Python 3",
   "language": "python",
   "name": "python3"
  }
 },
 "nbformat": 4,
 "nbformat_minor": 0
}
