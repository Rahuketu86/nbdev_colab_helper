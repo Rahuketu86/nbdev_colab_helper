{
 "cells": [
  {
   "cell_type": "code",
   "execution_count": null,
   "metadata": {},
   "outputs": [],
   "source": [
    "# default_exp core"
   ]
  },
  {
   "cell_type": "markdown",
   "metadata": {},
   "source": [
    "# module name here\n",
    "\n",
    "> API details."
   ]
  },
  {
   "cell_type": "markdown",
   "metadata": {},
   "source": [
    "Use this notebook to:\n",
    "- Run nbdev commands like building docs\n",
    "- Push changes to github\n",
    "\n",
    "Before we can do these things we need to set-up the colab runtime via a call to `nbdev_colab_helper.core.setup_project`. \n",
    "After mounting your google drive to `/content/drive`, `setup_project` looks for `/content/drive/My Drive/nbdev_colab_projects.ini`: which must have a section for the project you are setting up.\n",
    "\n",
    "```\n",
    "[DEFAULT]\n",
    "project_parent = /content/drive/My Drive/Colab Notebooks/github\n",
    "\n",
    "git_user_name = pete88b\n",
    "git_user_email = **secret**@gmail.com\n",
    "git_user_password = **secret**\n",
    "\n",
    "[nbdev_colab_helper]\n",
    "git_url = https://github.com/pete88b/nbdev_colab_helper.git\n",
    "git_branch = master\n",
    "\n",
    "[nbdev_demo]\n",
    "git_url = https://github.com/pete88b/nbdev_demo.git\n",
    "git_branch = main\n",
    "```\n",
    "\n",
    "nbdev_colab_projects.ini is read by `config.ConfigParser`\n",
    "\n",
    "**Warning:** Please don't share your nbdev_colab_projects.ini, or push to githib etc"
   ]
  },
  {
   "cell_type": "code",
   "execution_count": null,
   "metadata": {},
   "outputs": [],
   "source": [
    "#export\n",
    "IN_COLAB = 'google.colab' in str(get_ipython())"
   ]
  },
  {
   "cell_type": "code",
   "execution_count": null,
   "metadata": {},
   "outputs": [],
   "source": [
    "#export\n",
    "import os, subprocess, urllib, shlex\n",
    "\n",
    "def _run_commands(commands, password=None):\n",
    "  for cmd in commands:\n",
    "    process = subprocess.Popen(shlex.split(cmd), stdout=subprocess.PIPE)\n",
    "    output, err = process.communicate()\n",
    "    if password: cmd = cmd.replace(password, '*****')\n",
    "    print(cmd)\n",
    "    if output or err:\n",
    "      print('  ', output.decode('utf8').strip() if output else '', err or '')\n",
    "\n",
    "def setup_git(git_url:str, git_branch:str, name:str, password:str, email:str):\n",
    "  \"Link your mounted drive to GitHub\"\n",
    "  password = urllib.parse.quote(password)\n",
    "  _run_commands([\n",
    "      f\"git config --global user.email {email}\",\n",
    "      f\"git config --global user.name {name}\",\n",
    "      f\"git init\",\n",
    "      f\"git remote rm origin\",\n",
    "      f\"git remote add origin {git_url.replace('://git', f'://{name}:{password}@git')}\",\n",
    "      f\"git pull origin {git_branch} --allow-unrelated-histories\"],\n",
    "      password)\n",
    "\n",
    "def git_push(git_branch:str, message:str):\n",
    "  \"Convert the notebooks to scripts and then push to the library\"\n",
    "  _run_commands([\n",
    "      f'nbdev_install_git_hooks',\n",
    "      f'nbdev_build_lib',\n",
    "      f'git add *',\n",
    "      f'git commit -m \"{message}\"',\n",
    "      f'git push origin {git_branch}'])"
   ]
  },
  {
   "cell_type": "code",
   "execution_count": null,
   "metadata": {},
   "outputs": [],
   "source": [
    "#export\n",
    "if IN_COLAB:\n",
    "  from google.colab import drive\n",
    "from configparser import ConfigParser\n",
    "from pathlib import Path\n",
    "\n",
    "def setup_project(project_name):\n",
    "  print('Connecting to google drive')\n",
    "  drive.mount('/content/drive')\n",
    "  config_path = Path('/content/drive/My Drive/nbdev_colab_projects.ini')\n",
    "  config = ConfigParser()\n",
    "  config.read(config_path)\n",
    "  if project_name not in config:\n",
    "    print(f'Error: [{project_name}] section not found in {config_path}')\n",
    "    print(f'Please add a section for [{project_name}] and run `setup_project` again')\n",
    "    # TODO: add link to help page\n",
    "    return\n",
    "  project_config = config[project_name]\n",
    "  project_path = Path(project_config['project_parent'])/project_name\n",
    "  git_url, git_branch = project_config['git_url'], project_config['git_branch']\n",
    "  if project_path.is_dir():\n",
    "    print(f'Clone of {project_name} already exists in {project_path.parent}')\n",
    "  else:\n",
    "    project_path.parent.mkdir(parents=True, exist_ok=True)\n",
    "    get_ipython().magic(f'cd {project_path.parent}')\n",
    "    _run_commands([f'git clone {git_url}'])\n",
    "  get_ipython().magic(f'cd {project_path}')\n",
    "  _run_commands(['pip install git+https://github.com/fastai/nbdev.git'])\n",
    "  setup_git(git_url, git_branch, project_config['git_user_name'], \n",
    "            project_config['git_user_password'], project_config['git_user_email'])\n",
    "  return config, project_config, git_url, git_branch"
   ]
  },
  {
   "cell_type": "code",
   "execution_count": null,
   "metadata": {},
   "outputs": [],
   "source": [
    ""
   ]
  }
 ],
 "metadata": {
  "kernelspec": {
   "display_name": "Python 3",
   "language": "python",
   "name": "python3"
  }
 },
 "nbformat": 4,
 "nbformat_minor": 0
}
